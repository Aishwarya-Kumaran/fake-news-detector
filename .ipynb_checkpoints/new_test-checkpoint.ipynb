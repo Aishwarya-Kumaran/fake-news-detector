{
 "cells": [
  {
   "cell_type": "code",
   "execution_count": 1,
   "metadata": {},
   "outputs": [
    {
     "name": "stdout",
     "output_type": "stream",
     "text": [
      "done\n"
     ]
    },
    {
     "name": "stderr",
     "output_type": "stream",
     "text": [
      "[nltk_data] Downloading package stopwords to\n",
      "[nltk_data]     C:\\Users\\aishw\\AppData\\Roaming\\nltk_data...\n",
      "[nltk_data]   Package stopwords is already up-to-date!\n",
      "[nltk_data] Downloading package wordnet to\n",
      "[nltk_data]     C:\\Users\\aishw\\AppData\\Roaming\\nltk_data...\n",
      "[nltk_data]   Package wordnet is already up-to-date!\n"
     ]
    }
   ],
   "source": [
    "import re\n",
    "import sys\n",
    "#from calc imp\n",
    "import pandas as pd\n",
    "import json\n",
    "import nltk\n",
    "import numpy as np\n",
    "import tensorflow as tf\n",
    "from tensorflow.keras.models import Sequential, save_model, load_model\n",
    "from tensorflow.keras.layers import Embedding,Dense,LSTM,Dropout\n",
    "from tensorflow.keras.models import Sequential\n",
    "from tensorflow.keras.utils import plot_model\n",
    "from tensorflow.keras.preprocessing.text import one_hot\n",
    "from tensorflow.keras.preprocessing.sequence import pad_sequences\n",
    "from sklearn.metrics import classification_report\n",
    "from nltk.stem import WordNetLemmatizer\n",
    "from nltk.corpus import stopwords\n",
    "nltk.download('stopwords')\n",
    "nltk.download('wordnet')"
   ]
  },
  {
   "cell_type": "code",
   "execution_count": 8,
   "metadata": {},
   "outputs": [
    {
     "name": "stdout",
     "output_type": "stream",
     "text": [
      "Model: \"sequential\"\n",
      "_________________________________________________________________\n",
      "Layer (type)                 Output Shape              Param #   \n",
      "=================================================================\n",
      "embedding (Embedding)        (None, 356, 32)           16000000  \n",
      "_________________________________________________________________\n",
      "lstm (LSTM)                  (None, 100)               53200     \n",
      "_________________________________________________________________\n",
      "dense (Dense)                (None, 1)                 101       \n",
      "=================================================================\n",
      "Total params: 16,053,301\n",
      "Trainable params: 16,053,301\n",
      "Non-trainable params: 0\n",
      "_________________________________________________________________\n",
      "Model: \"sequential_7\"\n",
      "_________________________________________________________________\n",
      "Layer (type)                 Output Shape              Param #   \n",
      "=================================================================\n",
      "embedding_7 (Embedding)      (None, 356, 32)           16000000  \n",
      "_________________________________________________________________\n",
      "lstm_7 (LSTM)                (None, 100)               53200     \n",
      "_________________________________________________________________\n",
      "dense_7 (Dense)              (None, 1)                 101       \n",
      "=================================================================\n",
      "Total params: 16,053,301\n",
      "Trainable params: 16,053,301\n",
      "Non-trainable params: 0\n",
      "_________________________________________________________________\n",
      "Model: \"sequential_1\"\n",
      "_________________________________________________________________\n",
      "Layer (type)                 Output Shape              Param #   \n",
      "=================================================================\n",
      "embedding_1 (Embedding)      (None, 356, 32)           1600000   \n",
      "_________________________________________________________________\n",
      "lstm_1 (LSTM)                (None, 100)               53200     \n",
      "_________________________________________________________________\n",
      "dense_1 (Dense)              (None, 1)                 101       \n",
      "=================================================================\n",
      "Total params: 1,653,301\n",
      "Trainable params: 1,653,301\n",
      "Non-trainable params: 0\n",
      "_________________________________________________________________\n"
     ]
    }
   ],
   "source": [
    "    news_classifier_3 = load_model(\"model3/\", compile = True)\n",
    "    news_classifier_3.summary()\n",
    "\n",
    "    news_classifier_2 = load_model(\"model2/\", compile = True)\n",
    "    news_classifier_2.summary()\n",
    "\n",
    "    news_classifier_1 = load_model(\"model1/\", compile = True)\n",
    "    news_classifier_1.summary()\n"
   ]
  },
  {
   "cell_type": "code",
   "execution_count": 9,
   "metadata": {},
   "outputs": [
    {
     "name": "stdout",
     "output_type": "stream",
     "text": [
      "muslim regiment india\n",
      "fake\n"
     ]
    }
   ],
   "source": [
    "#'There is no muslim regiment in India' #fake \n",
    "# Facebook is failing in global disinformation battle says former employee #fake\n",
    "# Yoko reveals \"I had an affair with Hilary # fake\n",
    "#Joe Biden still holds significant lead #real\n",
    "#AI could offer big energy savings for office towers #real\n",
    "#Grant will help researchers prevent apple fire blight US #real\n",
    "\n",
    "#input = sys.argv[1]\n",
    "input = 'There is no muslim regiment in India'\n",
    "test = []\n",
    "\n",
    "\n",
    "f=open('vocab.json', 'r')\n",
    "vocab=json.loads(f.read())\n",
    "\n",
    "lemm = WordNetLemmatizer()\n",
    "one = re.sub('[^a-zA-Z]', \" \", input)\n",
    "one = one.lower()\n",
    "one = one.split()\n",
    "one = [lemm.lemmatize(word) for word in one if word not in stopwords.words(\"english\")]\n",
    "one = \" \".join(one)\n",
    "print(one)\n",
    "\n",
    "encoded_test= []\n",
    "\n",
    "one_copy = one.split()\n",
    "#print(one_copy)\n",
    "for i in one_copy:\n",
    "    if i in vocab:\n",
    "        encoded_test.append(vocab[i])\n",
    "    else:\n",
    "        encoded_test.append(0)\n",
    "test = []\n",
    "test.append(encoded_test)\n",
    "\n",
    "final_test = pad_sequences(test, maxlen = 356, padding = 'pre')\n",
    "y_11 = news_classifier_1.predict_proba(final_test)\n",
    "y_10 = 1 - y_11\n",
    "\n",
    "y_21 = news_classifier_2.predict_proba(final_test)\n",
    "y_20 = 1 - y_21\n",
    "\n",
    "\n",
    "y_31 = news_classifier_3.predict_proba(final_test)\n",
    "y_30 = 1 - y_31\n",
    "\n",
    "\n",
    "#print(\"model 1 output 1: \"+str(y_11)+\" 0: \"+str(y_10))\n",
    "#print(\"model 2 output 1: \"+str(y_21)+\" 0: \"+str(y_20))\n",
    "#print(\"model 3 output 1: \"+str(y_31)+\" 0: \"+str(y_30))\n",
    "#print(y)\n",
    "\n",
    "y_1 = (y_11+2*(y_21+y_31))/5\n",
    "y_0 = 1-y_1\n",
    "\n",
    "#print(\"1: \"+str(y_1)+\" 0: \"+str(y_0))\n",
    "if(y_1>y_0):\n",
    "    print(\"fake\")\n",
    "else:\n",
    "    print(\"real\")\n",
    "    \n",
    "\n",
    "\n",
    "#if y == 1:\n",
    "#    print(\"fake\")\n",
    "#else:\n",
    "#    print(\"real\")\n"
   ]
  },
  {
   "cell_type": "code",
   "execution_count": null,
   "metadata": {},
   "outputs": [],
   "source": []
  }
 ],
 "metadata": {
  "kernelspec": {
   "display_name": "Python 3",
   "language": "python",
   "name": "python3"
  },
  "language_info": {
   "codemirror_mode": {
    "name": "ipython",
    "version": 3
   },
   "file_extension": ".py",
   "mimetype": "text/x-python",
   "name": "python",
   "nbconvert_exporter": "python",
   "pygments_lexer": "ipython3",
   "version": "3.7.9"
  }
 },
 "nbformat": 4,
 "nbformat_minor": 4
}
